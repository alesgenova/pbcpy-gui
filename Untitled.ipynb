{
 "cells": [
  {
   "cell_type": "code",
   "execution_count": 3,
   "metadata": {
    "collapsed": true
   },
   "outputs": [],
   "source": [
    "import vtk\n",
    "from vtk.util import numpy_support\n",
    "from vtk.numpy_interface import dataset_adapter\n",
    "from pbcpy.formats.qepp import PP\n",
    "import numpy as np"
   ]
  },
  {
   "cell_type": "code",
   "execution_count": 95,
   "metadata": {},
   "outputs": [
    {
     "data": {
      "text/plain": [
       "<module 'vtk.numpy_interface.dataset_adapter' from '/home/alessandro/anaconda3/lib/python3.6/site-packages/vtk/numpy_interface/dataset_adapter.py'>"
      ]
     },
     "execution_count": 95,
     "metadata": {},
     "output_type": "execute_result"
    }
   ],
   "source": [
    "dataset_adapter"
   ]
  },
  {
   "cell_type": "code",
   "execution_count": 4,
   "metadata": {
    "collapsed": true
   },
   "outputs": [],
   "source": [
    "rho = PP(\"/home/alessandro/QE/FDE_Calc/dimer/water-trimer_fde_rho_2.pp\").read()"
   ]
  },
  {
   "cell_type": "code",
   "execution_count": 30,
   "metadata": {},
   "outputs": [
    {
     "data": {
      "text/plain": [
       "(120, 120, 120, 1)"
      ]
     },
     "execution_count": 30,
     "metadata": {},
     "output_type": "execute_result"
    }
   ],
   "source": [
    "field = rho.field.ravel()\n",
    "rho.field.shape"
   ]
  },
  {
   "cell_type": "code",
   "execution_count": 31,
   "metadata": {},
   "outputs": [
    {
     "data": {
      "text/plain": [
       "(vtkCommonCorePython.vtkDoubleArray)0x7f0ab3015e88"
      ]
     },
     "execution_count": 31,
     "metadata": {},
     "output_type": "execute_result"
    }
   ],
   "source": [
    "field_vtk = numpy_support.numpy_to_vtk(field, deep=True)\n",
    "field_vtk"
   ]
  },
  {
   "cell_type": "code",
   "execution_count": 85,
   "metadata": {
    "collapsed": true
   },
   "outputs": [],
   "source": [
    "iD = vtk.vtkImageData()\n",
    "\n",
    "iD.SetOrigin(0.,0.,0.)\n",
    "iD.SetSpacing(1.,1.,1.)\n",
    "iD.SetDimensions((120,60,240))\n",
    "\n",
    "#iD.GetPointData().SetScalars(field_vtk)\n",
    "\n",
    "geom = vtk.vtkGeometryFilter()\n",
    "#geom = vtk.vtk()\n",
    "geom.SetInputData(iD)\n",
    "\n",
    "#m = vtk.vtkPolyDataMapper()\n",
    "m = vtk.vtkDataSetMapper()\n",
    "m.SetInputConnection(geom.GetOutputPort())\n",
    "\n",
    "a = vtk.vtkActor()\n",
    "a.SetMapper(m)\n",
    "#geom"
   ]
  },
  {
   "cell_type": "code",
   "execution_count": 86,
   "metadata": {
    "collapsed": true
   },
   "outputs": [],
   "source": [
    "ren, win, iren = init_window()"
   ]
  },
  {
   "cell_type": "code",
   "execution_count": 87,
   "metadata": {
    "collapsed": true
   },
   "outputs": [],
   "source": [
    "ren.AddActor(a)"
   ]
  },
  {
   "cell_type": "code",
   "execution_count": null,
   "metadata": {
    "collapsed": true
   },
   "outputs": [],
   "source": []
  },
  {
   "cell_type": "code",
   "execution_count": 88,
   "metadata": {
    "collapsed": true
   },
   "outputs": [],
   "source": [
    "iren.Initialize()\n",
    "win.Render()\n",
    "iren.Start()"
   ]
  },
  {
   "cell_type": "code",
   "execution_count": 89,
   "metadata": {
    "collapsed": true
   },
   "outputs": [],
   "source": [
    "win.Finalize()\n",
    "iren.TerminateApp()\n",
    "del win, iren"
   ]
  },
  {
   "cell_type": "code",
   "execution_count": 15,
   "metadata": {},
   "outputs": [
    {
     "ename": "AttributeError",
     "evalue": "'vtkRenderingCorePython.vtkDataSetMapper' object has no attribute 'SetDimensions'",
     "output_type": "error",
     "traceback": [
      "\u001b[0;31m---------------------------------------------------------------------------\u001b[0m",
      "\u001b[0;31mAttributeError\u001b[0m                            Traceback (most recent call last)",
      "\u001b[0;32m<ipython-input-15-b8f330be82d0>\u001b[0m in \u001b[0;36m<module>\u001b[0;34m()\u001b[0m\n\u001b[1;32m      1\u001b[0m \u001b[0mdata_vtk\u001b[0m \u001b[0;34m=\u001b[0m \u001b[0mvtk\u001b[0m\u001b[0;34m.\u001b[0m\u001b[0mvtkDataSetMapper\u001b[0m\u001b[0;34m(\u001b[0m\u001b[0;34m)\u001b[0m\u001b[0;34m\u001b[0m\u001b[0m\n\u001b[0;32m----> 2\u001b[0;31m \u001b[0mdata_vtk\u001b[0m\u001b[0;34m.\u001b[0m\u001b[0mSetDimensions\u001b[0m\u001b[0;34m(\u001b[0m\u001b[0;34m(\u001b[0m\u001b[0;36m120\u001b[0m\u001b[0;34m,\u001b[0m\u001b[0;36m120\u001b[0m\u001b[0;34m,\u001b[0m\u001b[0;36m120\u001b[0m\u001b[0;34m)\u001b[0m\u001b[0;34m)\u001b[0m\u001b[0;34m\u001b[0m\u001b[0m\n\u001b[0m\u001b[1;32m      3\u001b[0m \u001b[0;31m#img_vtk.SetSpacing(spacing[::-1])\u001b[0m\u001b[0;34m\u001b[0m\u001b[0;34m\u001b[0m\u001b[0m\n\u001b[1;32m      4\u001b[0m \u001b[0mdata_vtk\u001b[0m\u001b[0;34m.\u001b[0m\u001b[0mGetPointData\u001b[0m\u001b[0;34m(\u001b[0m\u001b[0;34m)\u001b[0m\u001b[0;34m.\u001b[0m\u001b[0mSetScalars\u001b[0m\u001b[0;34m(\u001b[0m\u001b[0mfield_vtk\u001b[0m\u001b[0;34m)\u001b[0m\u001b[0;34m\u001b[0m\u001b[0m\n",
      "\u001b[0;31mAttributeError\u001b[0m: 'vtkRenderingCorePython.vtkDataSetMapper' object has no attribute 'SetDimensions'"
     ]
    }
   ],
   "source": [
    "data_vtk = vtk.\n",
    "data_vtk.SetDimensions((120,120,120))\n",
    "#img_vtk.SetSpacing(spacing[::-1])\n",
    "data_vtk.GetPointData().SetScalars(field_vtk)"
   ]
  },
  {
   "cell_type": "code",
   "execution_count": 14,
   "metadata": {
    "collapsed": true
   },
   "outputs": [],
   "source": [
    "from vtk.util.colors import tomato\n",
    "\n",
    "# This creates a polygonal cylinder model with eight circumferential\n",
    "# facets.\n",
    "cylinder = vtk.vtkCylinderSource()\n",
    "cylinder.SetResolution(8)\n",
    "\n",
    "# The mapper is responsible for pushing the geometry into the graphics\n",
    "# library. It may also do color mapping, if scalars or other\n",
    "# attributes are defined.\n",
    "cylinderMapper = vtk.vtkPolyDataMapper()\n",
    "cylinderMapper.SetInputConnection(cylinder.GetOutputPort())\n",
    "\n",
    "# The actor is a grouping mechanism: besides the geometry (mapper), it\n",
    "# also has a property, transformation matrix, and/or texture map.\n",
    "# Here we set its color and rotate it -22.5 degrees.\n",
    "cylinderActor = vtk.vtkActor()\n",
    "cylinderActor.SetMapper(cylinderMapper)\n",
    "#cylinderActor.SetMapper(data_vtk)\n",
    "prop = cylinderActor.GetProperty()\n",
    "prop.SetColor()\n",
    "cylinderActor.RotateX(30.0)\n",
    "cylinderActor.RotateY(-45.0)"
   ]
  },
  {
   "cell_type": "code",
   "execution_count": 13,
   "metadata": {
    "collapsed": true
   },
   "outputs": [],
   "source": [
    "# Create the graphics structure. The renderer renders into the render\n",
    "# window. The render window interactor captures mouse events and will\n",
    "# perform appropriate camera or actor manipulation depending on the\n",
    "# nature of the events.\n",
    "ren = vtk.vtkRenderer()\n",
    "renWin = vtk.vtkRenderWindow()\n",
    "renWin.AddRenderer(ren)\n",
    "iren = vtk.vtkRenderWindowInteractor()\n",
    "iren.SetRenderWindow(renWin)"
   ]
  },
  {
   "cell_type": "code",
   "execution_count": 14,
   "metadata": {
    "collapsed": true
   },
   "outputs": [],
   "source": [
    "# Add the actors to the renderer, set the background and size\n",
    "ren.AddActor(cylinderActor)\n",
    "ren.SetBackground(0.1, 0.2, 0.4)\n",
    "renWin.SetSize(200, 200)\n",
    "\n",
    "# This allows the interactor to initalize itself. It has to be\n",
    "# called before an event loop.\n",
    "iren.Initialize()\n",
    "\n",
    "# We'll zoom in a little by accessing the camera and invoking a \"Zoom\"\n",
    "# method on it.\n",
    "ren.ResetCamera()\n",
    "ren.GetActiveCamera().Zoom(1.5)\n",
    "renWin.Render()\n",
    "\n",
    "# Start the event loop.\n",
    "iren.Start()"
   ]
  },
  {
   "cell_type": "code",
   "execution_count": 104,
   "metadata": {
    "collapsed": true
   },
   "outputs": [],
   "source": [
    "def init_window():\n",
    "    import vtk\n",
    "    # Create the graphics structure. The renderer renders into the render\n",
    "    # window. The render window interactor captures mouse events and will\n",
    "    # perform appropriate camera or actor manipulation depending on the\n",
    "    # nature of the events.\n",
    "    ren = vtk.vtkRenderer()\n",
    "    renWin = vtk.vtkRenderWindow()\n",
    "    renWin.AddRenderer(ren)\n",
    "    iren = vtk.vtkRenderWindowInteractor()\n",
    "    iren.SetRenderWindow(renWin)\n",
    "    # Add the actors to the renderer, set the background and size\n",
    "    #ren.AddActor(cylinderActor)\n",
    "    ren.SetBackground(1, 1, 1)\n",
    "    renWin.SetSize(400, 400)\n",
    "\n",
    "    # This allows the interactor to initalize itself. It has to be\n",
    "    # called before an event loop.\n",
    "    #iren.Initialize()\n",
    "\n",
    "    # We'll zoom in a little by accessing the camera and invoking a \"Zoom\"\n",
    "    # method on it.\n",
    "    ren.ResetCamera()\n",
    "    #ren.GetActiveCamera().Zoom(1.5)\n",
    "    # Start the event loop.\n",
    "    #iren.Start()\n",
    "    \n",
    "    return ren, renWin, iren\n",
    "\n",
    "\n",
    "def add_field(field, renderer, iso=0.1, k=0):\n",
    "    import vtk\n",
    "    from vtk.numpy_interface import dataset_adapter\n",
    "    \n",
    "    spacing = np.zeros(3)\n",
    "    for i in range(3):\n",
    "        spacing[i] = field.grid.lattice[i,i]/field.grid.nr[i]\n",
    "    \n",
    "    iD = vtk.vtkImageData()\n",
    "    \n",
    "    field_vtk = numpy_support.numpy_to_vtk(field.ravel(order=\"F\"), deep=True)    \n",
    "    iD.GetPointData().SetScalars(field_vtk)\n",
    "    iD.SetOrigin(0.,0.,0.)\n",
    "    iD.SetSpacing(spacing)\n",
    "    iD.SetDimensions(field.grid.nr)\n",
    "   \n",
    "    contour = vtk.vtkMarchingCubes()\n",
    "    contour.SetValue(0, iso)\n",
    "    contour.SetInputData(iD)\n",
    "   \n",
    "    \n",
    "    #stripper = vtk.vtkStripper()\n",
    "    #stripper.SetInputConnection(contour.GetOutputPort())\n",
    "\n",
    "    m = vtk.vtkPolyDataMapper()\n",
    "    m.SetInputConnection(contour.GetOutputPort())\n",
    "    m.Update()\n",
    "    m.ScalarVisibilityOff()\n",
    "    #m.SetInputData(iD)\n",
    "    \n",
    "    a = vtk.vtkActor()\n",
    "    a.SetMapper(m)\n",
    "    a.GetProperty().SetDiffuseColor(i2color(k))\n",
    "    a.GetProperty().SetOpacity(0.4)\n",
    "    #a.GetProperty().EdgeVisibilityOn()\n",
    "    \n",
    "    renderer.AddActor(a)\n",
    "\n",
    "\n",
    "def add_atom(label, pos, renderer):\n",
    "    r = 1.0\n",
    "    ball = vtk.vtkSphereSource()\n",
    "    ball.SetRadius(label2radius(label))\n",
    "    ball.SetCenter(pos)\n",
    "\n",
    "    # The mapper is responsible for pushing the geometry into the graphics\n",
    "    # library. It may also do color mapping, if scalars or other\n",
    "    # attributes are defined.\n",
    "    ballMapper = vtk.vtkPolyDataMapper()\n",
    "    ballMapper.SetInputConnection(ball.GetOutputPort())\n",
    "\n",
    "    # The actor is a grouping mechanism: besides the geometry (mapper), it\n",
    "    # also has a property, transformation matrix, and/or texture map.\n",
    "    # Here we set its color and rotate it -22.5 degrees.\n",
    "    ballActor = vtk.vtkActor()\n",
    "    ballActor.SetMapper(ballMapper)\n",
    "    #cylinderActor.SetMapper(data_vtk)\n",
    "    ballActor.GetProperty().SetColor(label2color(label))\n",
    "    \n",
    "    renderer.AddActor(ballActor)\n",
    "\n",
    "    \n",
    "def label2color(label):\n",
    "    color_dict = {\n",
    "        \"O\": (1.,0.,0.),\n",
    "        \"H\": (0.9,0.9,0.9)\n",
    "    }\n",
    "    if label in color_dict:\n",
    "        return color_dict[label]\n",
    "    return (.5,.5,.5)\n",
    "\n",
    "def label2radius(label):\n",
    "    radius_dict = {\n",
    "        \"O\": 0.5,\n",
    "        \"H\": 0.25\n",
    "    }\n",
    "    if label in radius_dict:\n",
    "        return radius_dict[label]\n",
    "    return 0.5\n",
    "\n",
    "def i2color(i):\n",
    "    n = 6\n",
    "    j = i%n\n",
    "    colors = [\n",
    "        (1.,0.,0.),\n",
    "        (0.,1.,0.),\n",
    "        (0.,0.,1.),\n",
    "        (1.,1.,0.),\n",
    "        (1.,0.,1.),\n",
    "        (0.,1.,1.),\n",
    "    ]\n",
    "    return colors[j]\n",
    "\n",
    "def render_pp(filename):\n",
    "    from pbcpy.formats.qepp import PP\n",
    "    system = PP(filename).read()\n",
    "    render_system(system)\n",
    "    \n",
    "def render_system(system):\n",
    "    ren, win, iren = init_window()\n",
    "    \n",
    "    for atom in system.ions:\n",
    "        add_atom(atom.label, atom.pos, ren)\n",
    "        \n",
    "    iso = 0.1\n",
    "    i = 6\n",
    "    add_field(system.field, ren, iso, i)\n",
    "    \n",
    "    iren.Initialize()\n",
    "    win.Render()\n",
    "    iren.Start()\n",
    "    \n",
    "    win.Finalize()\n",
    "    iren.TerminateApp()\n",
    "    del win, iren"
   ]
  },
  {
   "cell_type": "code",
   "execution_count": 105,
   "metadata": {
    "collapsed": true
   },
   "outputs": [],
   "source": [
    "render_pp(\"/home/alessandro/QE/FDE_Calc/dimer/water-trimer_fde_rho_2.pp\")"
   ]
  },
  {
   "cell_type": "code",
   "execution_count": 93,
   "metadata": {
    "collapsed": true
   },
   "outputs": [],
   "source": [
    "iren, win, iren = init_window()"
   ]
  },
  {
   "cell_type": "code",
   "execution_count": 98,
   "metadata": {},
   "outputs": [
    {
     "name": "stdout",
     "output_type": "stream",
     "text": [
      "O [ 8.5037676   8.55442386  7.89977265]\n",
      "H [ 7.05008861  8.58458885  9.02692964]\n",
      "H [ 9.95744659  8.58458885  9.02692964]\n"
     ]
    }
   ],
   "source": [
    "for atom in rho.ions:\n",
    "    add_atom(atom.label, atom.pos, ren)\n",
    "    #print(atom.label, atom.pos)\n",
    "    \n"
   ]
  },
  {
   "cell_type": "code",
   "execution_count": 94,
   "metadata": {
    "collapsed": true
   },
   "outputs": [],
   "source": [
    "iso = 0.01\n",
    "i = 6\n",
    "add_field(rho.field, ren, iso, i)"
   ]
  },
  {
   "cell_type": "code",
   "execution_count": 95,
   "metadata": {
    "collapsed": true
   },
   "outputs": [],
   "source": [
    "iren.Initialize()\n",
    "win.Render()\n",
    "iren.Start()"
   ]
  },
  {
   "cell_type": "code",
   "execution_count": 96,
   "metadata": {
    "collapsed": true
   },
   "outputs": [],
   "source": [
    "win.Finalize()\n",
    "iren.TerminateApp()\n",
    "del win, iren"
   ]
  },
  {
   "cell_type": "code",
   "execution_count": 13,
   "metadata": {
    "collapsed": true
   },
   "outputs": [],
   "source": [
    "actors = ren.Get"
   ]
  },
  {
   "cell_type": "code",
   "execution_count": 14,
   "metadata": {},
   "outputs": [
    {
     "ename": "TypeError",
     "evalue": "'vtkRenderingCorePython.vtkActorCollection' object is not subscriptable",
     "output_type": "error",
     "traceback": [
      "\u001b[0;31m---------------------------------------------------------------------------\u001b[0m",
      "\u001b[0;31mTypeError\u001b[0m                                 Traceback (most recent call last)",
      "\u001b[0;32m<ipython-input-14-765231725146>\u001b[0m in \u001b[0;36m<module>\u001b[0;34m()\u001b[0m\n\u001b[0;32m----> 1\u001b[0;31m \u001b[0mactors\u001b[0m\u001b[0;34m[\u001b[0m\u001b[0;36m0\u001b[0m\u001b[0;34m]\u001b[0m\u001b[0;34m\u001b[0m\u001b[0m\n\u001b[0m",
      "\u001b[0;31mTypeError\u001b[0m: 'vtkRenderingCorePython.vtkActorCollection' object is not subscriptable"
     ]
    }
   ],
   "source": [
    "actors."
   ]
  },
  {
   "cell_type": "code",
   "execution_count": 6,
   "metadata": {
    "collapsed": true
   },
   "outputs": [],
   "source": [
    "ball = vtk.vtkSphereSource()\n",
    "ball.SetRadius(1)\n",
    "#ball.SetResolution(16)\n",
    "\n",
    "# The mapper is responsible for pushing the geometry into the graphics\n",
    "# library. It may also do color mapping, if scalars or other\n",
    "# attributes are defined.\n",
    "ballMapper = vtk.vtkPolyDataMapper()\n",
    "ballMapper.SetInputConnection(ball.GetOutputPort())\n",
    "\n",
    "# The actor is a grouping mechanism: besides the geometry (mapper), it\n",
    "# also has a property, transformation matrix, and/or texture map.\n",
    "# Here we set its color and rotate it -22.5 degrees.\n",
    "ballActor = vtk.vtkActor()\n",
    "ballActor.SetMapper(ballMapper)\n",
    "ballActor.SetOrigin()\n",
    "#cylinderActor.SetMapper(data_vtk)\n",
    "#ballActor.GetProperty().SetColor(tomato)\n",
    "\n",
    "#renderer.AddActor(ballActor)"
   ]
  },
  {
   "cell_type": "code",
   "execution_count": 30,
   "metadata": {},
   "outputs": [
    {
     "data": {
      "text/plain": [
       "(DirectField(-7.471154341e-08), DirectField(1.055862139))"
      ]
     },
     "execution_count": 30,
     "metadata": {},
     "output_type": "execute_result"
    }
   ],
   "source": [
    "rho.field.min(), rho.field.max()\n"
   ]
  },
  {
   "cell_type": "code",
   "execution_count": 23,
   "metadata": {
    "collapsed": true
   },
   "outputs": [],
   "source": [
    "def sin_field(g, nr):\n",
    "    field = np.zeros((nr,nr,nr), dtype=np.uint8)\n",
    "    for i in range(nr):\n",
    "        field[i,:,:] = (1+np.sin(2*np.pi*i*g/nr))*127\n",
    "    return field"
   ]
  },
  {
   "cell_type": "code",
   "execution_count": 24,
   "metadata": {
    "collapsed": true
   },
   "outputs": [],
   "source": [
    "from pbcpy.field import DirectField\n",
    "from pbcpy.grid import DirectGrid\n",
    "import numpy as np\n",
    "nr = 90\n",
    "grid = DirectGrid(np.identity(3),[nr,nr,nr])\n",
    "field = DirectField(grid=grid, griddata_3d=sin_field(3, nr))"
   ]
  },
  {
   "cell_type": "code",
   "execution_count": 58,
   "metadata": {},
   "outputs": [
    {
     "data": {
      "text/plain": [
       "DirectField([[127],\n",
       "       [153],\n",
       "       [178],\n",
       "       [201],\n",
       "       [221],\n",
       "       [236],\n",
       "       [247],\n",
       "       [253],\n",
       "       [253],\n",
       "       [247],\n",
       "       [236],\n",
       "       [221],\n",
       "       [201],\n",
       "       [178],\n",
       "       [153],\n",
       "       [127],\n",
       "       [100],\n",
       "       [ 75],\n",
       "       [ 52],\n",
       "       [ 32],\n",
       "       [ 17],\n",
       "       [  6],\n",
       "       [  0],\n",
       "       [  0],\n",
       "       [  6],\n",
       "       [ 17],\n",
       "       [ 32],\n",
       "       [ 52],\n",
       "       [ 75],\n",
       "       [100],\n",
       "       [126],\n",
       "       [153],\n",
       "       [178],\n",
       "       [201],\n",
       "       [221],\n",
       "       [236],\n",
       "       [247],\n",
       "       [253],\n",
       "       [253],\n",
       "       [247],\n",
       "       [236],\n",
       "       [221],\n",
       "       [201],\n",
       "       [178],\n",
       "       [153],\n",
       "       [127],\n",
       "       [100],\n",
       "       [ 75],\n",
       "       [ 52],\n",
       "       [ 32],\n",
       "       [ 17],\n",
       "       [  6],\n",
       "       [  0],\n",
       "       [  0],\n",
       "       [  6],\n",
       "       [ 17],\n",
       "       [ 32],\n",
       "       [ 52],\n",
       "       [ 75],\n",
       "       [100],\n",
       "       [126],\n",
       "       [153],\n",
       "       [178],\n",
       "       [201],\n",
       "       [221],\n",
       "       [236],\n",
       "       [247],\n",
       "       [253],\n",
       "       [253],\n",
       "       [247],\n",
       "       [236],\n",
       "       [221],\n",
       "       [201],\n",
       "       [178],\n",
       "       [153],\n",
       "       [127],\n",
       "       [100],\n",
       "       [ 75],\n",
       "       [ 52],\n",
       "       [ 32],\n",
       "       [ 17],\n",
       "       [  6],\n",
       "       [  0],\n",
       "       [  0],\n",
       "       [  6],\n",
       "       [ 17],\n",
       "       [ 32],\n",
       "       [ 52],\n",
       "       [ 75],\n",
       "       [100]], dtype=uint8)"
      ]
     },
     "execution_count": 58,
     "metadata": {},
     "output_type": "execute_result"
    }
   ],
   "source": [
    "field[:,20,0]"
   ]
  },
  {
   "cell_type": "code",
   "execution_count": 7,
   "metadata": {
    "collapsed": true
   },
   "outputs": [],
   "source": [
    "s = \"abcd\""
   ]
  },
  {
   "cell_type": "code",
   "execution_count": 5,
   "metadata": {
    "collapsed": true
   },
   "outputs": [],
   "source": [
    "def reverse(s, i=0):\n",
    "    if i >= len(s): return \"\"\n",
    "    return reverse(s, i+1) + s[i]"
   ]
  },
  {
   "cell_type": "code",
   "execution_count": 8,
   "metadata": {},
   "outputs": [
    {
     "data": {
      "text/plain": [
       "'dcba'"
      ]
     },
     "execution_count": 8,
     "metadata": {},
     "output_type": "execute_result"
    }
   ],
   "source": [
    "reverse(s)"
   ]
  },
  {
   "cell_type": "code",
   "execution_count": 1,
   "metadata": {
    "collapsed": true
   },
   "outputs": [],
   "source": [
    "import numpy as np"
   ]
  },
  {
   "cell_type": "code",
   "execution_count": 20,
   "metadata": {},
   "outputs": [],
   "source": [
    "filename = \"/home/alessandro/QE/FDE_Calc/trimer/kitware/trimer.xyz\"\n",
    "\n",
    "data = np.genfromtxt(filename, dtype=str)\n",
    "labels = data[:,0]\n",
    "positions = np.array(data[:,1:], dtype=float)"
   ]
  },
  {
   "cell_type": "code",
   "execution_count": 17,
   "metadata": {},
   "outputs": [],
   "source": [
    "def centerPos(pos, cell):\n",
    "    cell = np.ones(3)*12.\n",
    "    size = np.zeros(3)\n",
    "    shift = np.zeros(3)\n",
    "    max_pos = np.zeros(3)\n",
    "    min_pos = np.zeros(3)\n",
    "    \n",
    "    for i in range(3):\n",
    "        min_pos[i] = np.min(pos[:,i])\n",
    "        max_pos[i] = np.max(pos[:,i])\n",
    "        size[i] = max_pos[i] - min_pos[i]\n",
    "        shift[i] = (cell[i]-size[i])/2. - min_pos[i]\n",
    "        \n",
    "    return size, shift"
   ]
  },
  {
   "cell_type": "code",
   "execution_count": 19,
   "metadata": {},
   "outputs": [],
   "source": [
    "size, shift = centerPos(positions,\"\")"
   ]
  },
  {
   "cell_type": "code",
   "execution_count": 22,
   "metadata": {},
   "outputs": [
    {
     "name": "stdout",
     "output_type": "stream",
     "text": [
      "O  6.0  6.0  4.755614920000001\n",
      "H  6.0  6.77162768  5.360155960000001\n",
      "H  6.0  5.22837232  5.360155960000001\n",
      "O  6.0  3.7018061400000004  6.647919280000001\n",
      "H  5.2307462000000005  3.71776877  7.24438508\n",
      "H  6.7692537999999995  3.71776877  7.24438508\n",
      "O  6.0  8.29819386  6.647919280000001\n",
      "H  5.2307462000000005  8.28223123  7.24438508\n",
      "H  6.7692537999999995  8.28223123  7.24438508\n"
     ]
    }
   ],
   "source": [
    "for label, pos in zip(labels, positions):\n",
    "    pos += shift\n",
    "    print(\"{}  {}  {}  {}\".format(label, pos[0], pos[1], pos[2]))"
   ]
  },
  {
   "cell_type": "code",
   "execution_count": 31,
   "metadata": {
    "collapsed": true
   },
   "outputs": [],
   "source": [
    "from collections import OrderedDict\n",
    "a = OrderedDict()\n",
    "a[\"asd\"] = 1\n",
    "a[\"asad\"] = 1"
   ]
  },
  {
   "cell_type": "code",
   "execution_count": 33,
   "metadata": {},
   "outputs": [],
   "source": [
    "folder = \"/home/alessandro/code/pbcpy-qt/trimer/fde\""
   ]
  },
  {
   "cell_type": "code",
   "execution_count": 34,
   "metadata": {
    "collapsed": true
   },
   "outputs": [],
   "source": [
    "import os"
   ]
  },
  {
   "cell_type": "code",
   "execution_count": 42,
   "metadata": {},
   "outputs": [
    {
     "name": "stdout",
     "output_type": "stream",
     "text": [
      "/home/alessandro/code/pbcpy-qt/trimer/fde/density_1.pp\n",
      "/home/alessandro/code/pbcpy-qt/trimer/fde/density_2.pp\n",
      "/home/alessandro/code/pbcpy-qt/trimer/fde/density_0.pp\n"
     ]
    }
   ],
   "source": [
    "for f in os.listdir(folder):\n",
    "    if f.endswith(\".pp\"):\n",
    "        print(os.path.join(folder, f))"
   ]
  },
  {
   "cell_type": "code",
   "execution_count": 38,
   "metadata": {
    "collapsed": true
   },
   "outputs": [],
   "source": [
    "s = \"asdsa.pp\"\n"
   ]
  },
  {
   "cell_type": "code",
   "execution_count": 47,
   "metadata": {},
   "outputs": [
    {
     "data": {
      "text/plain": [
       "(True, True)"
      ]
     },
     "execution_count": 47,
     "metadata": {},
     "output_type": "execute_result"
    }
   ],
   "source": [
    "os.path.isdir(folder), os.path.isfile(folder+\"/density_0.pp\"), "
   ]
  }
 ],
 "metadata": {
  "kernelspec": {
   "display_name": "Python [default]",
   "language": "python",
   "name": "python3"
  },
  "language_info": {
   "codemirror_mode": {
    "name": "ipython",
    "version": 3
   },
   "file_extension": ".py",
   "mimetype": "text/x-python",
   "name": "python",
   "nbconvert_exporter": "python",
   "pygments_lexer": "ipython3",
   "version": "3.6.1"
  }
 },
 "nbformat": 4,
 "nbformat_minor": 2
}
